{
  "nbformat": 4,
  "nbformat_minor": 0,
  "metadata": {
    "colab": {
      "provenance": [],
      "authorship_tag": "ABX9TyO1f0DSlDYtwKFgBMUUCBPv",
      "include_colab_link": true
    },
    "kernelspec": {
      "name": "python3",
      "display_name": "Python 3"
    },
    "language_info": {
      "name": "python"
    }
  },
  "cells": [
    {
      "cell_type": "markdown",
      "metadata": {
        "id": "view-in-github",
        "colab_type": "text"
      },
      "source": [
        "<a href=\"https://colab.research.google.com/github/LShanthipriya777/Python-/blob/main/Datatype_2.ipynb\" target=\"_parent\"><img src=\"https://colab.research.google.com/assets/colab-badge.svg\" alt=\"Open In Colab\"/></a>"
      ]
    },
    {
      "cell_type": "code",
      "source": [
        "a=[2,4,8,\"Shanthi\"]\n",
        "print(a)\n",
        "print(type(a))"
      ],
      "metadata": {
        "colab": {
          "base_uri": "https://localhost:8080/"
        },
        "id": "J4jTT-FaqKwW",
        "outputId": "42e56210-c7d4-4562-d744-a71d5a845bf7"
      },
      "execution_count": 3,
      "outputs": [
        {
          "output_type": "stream",
          "name": "stdout",
          "text": [
            "[2, 4, 8, 'Shanthi']\n",
            "<class 'list'>\n"
          ]
        }
      ]
    },
    {
      "cell_type": "code",
      "source": [
        "b=(9,5,7,\"priya\")\n",
        "print(a)\n",
        "print(type(b))"
      ],
      "metadata": {
        "colab": {
          "base_uri": "https://localhost:8080/"
        },
        "id": "nWiIkR1YqS1W",
        "outputId": "74c3e2ea-12f7-4053-f744-3640543c9a25"
      },
      "execution_count": 4,
      "outputs": [
        {
          "output_type": "stream",
          "name": "stdout",
          "text": [
            "[2, 4, 8, 'Shanthi']\n",
            "<class 'tuple'>\n"
          ]
        }
      ]
    },
    {
      "cell_type": "code",
      "source": [
        "h={\"string\":4,\"hi\":9}\n",
        "print(h)\n",
        "print(type(h))"
      ],
      "metadata": {
        "colab": {
          "base_uri": "https://localhost:8080/"
        },
        "id": "Z1lEdzlHqXqw",
        "outputId": "f09c7a5a-1e62-4b10-e057-d34cfc3e2d40"
      },
      "execution_count": 5,
      "outputs": [
        {
          "output_type": "stream",
          "name": "stdout",
          "text": [
            "{'string': 4, 'hi': 9}\n",
            "<class 'dict'>\n"
          ]
        }
      ]
    },
    {
      "cell_type": "code",
      "source": [
        "h={\"string\":4,\"hi\":9}\n",
        "print(h.keys())\n",
        "print(h)\n",
        "print(type(h))"
      ],
      "metadata": {
        "colab": {
          "base_uri": "https://localhost:8080/"
        },
        "id": "wrmtvQKtqdvw",
        "outputId": "6e2bd582-ad37-4141-cdcc-ba846481545d"
      },
      "execution_count": 6,
      "outputs": [
        {
          "output_type": "stream",
          "name": "stdout",
          "text": [
            "dict_keys(['string', 'hi'])\n",
            "{'string': 4, 'hi': 9}\n",
            "<class 'dict'>\n"
          ]
        }
      ]
    },
    {
      "cell_type": "code",
      "source": [
        "h={\"string\":4,\"hi\":9}\n",
        "print(h.values())\n",
        "print(h)\n",
        "print(type(h))"
      ],
      "metadata": {
        "colab": {
          "base_uri": "https://localhost:8080/"
        },
        "id": "bR97cIRzqhTu",
        "outputId": "d46d4c3e-4e8f-4914-ef4f-993c4fe4d21d"
      },
      "execution_count": 7,
      "outputs": [
        {
          "output_type": "stream",
          "name": "stdout",
          "text": [
            "dict_values([4, 9])\n",
            "{'string': 4, 'hi': 9}\n",
            "<class 'dict'>\n"
          ]
        }
      ]
    },
    {
      "cell_type": "code",
      "source": [
        "h={\"string\":4,\"hi\":9}\n",
        "print(h.pop(\"string\"))\n",
        "print(h)\n",
        "print(type(h))"
      ],
      "metadata": {
        "colab": {
          "base_uri": "https://localhost:8080/"
        },
        "id": "TDPz3EO3qlRx",
        "outputId": "46f4b3b9-b9d9-4220-c0d0-90373bf889be"
      },
      "execution_count": 8,
      "outputs": [
        {
          "output_type": "stream",
          "name": "stdout",
          "text": [
            "4\n",
            "{'hi': 9}\n",
            "<class 'dict'>\n"
          ]
        }
      ]
    },
    {
      "cell_type": "code",
      "source": [
        "h={\"string\":4,\"hi\":9}\n",
        "print(h.items())\n",
        "print(h)\n",
        "print(type(h))"
      ],
      "metadata": {
        "colab": {
          "base_uri": "https://localhost:8080/"
        },
        "id": "YHuh3JOCqqOe",
        "outputId": "7ea1fac2-e259-43bc-cc66-4d9ba01f5448"
      },
      "execution_count": 9,
      "outputs": [
        {
          "output_type": "stream",
          "name": "stdout",
          "text": [
            "dict_items([('string', 4), ('hi', 9)])\n",
            "{'string': 4, 'hi': 9}\n",
            "<class 'dict'>\n"
          ]
        }
      ]
    },
    {
      "cell_type": "code",
      "source": [
        "h={\"string\":4,\"hi\":9}\n",
        "print(h.update({\"course\":\"python\"}))\n",
        "print(h)\n",
        "print(type(h))"
      ],
      "metadata": {
        "colab": {
          "base_uri": "https://localhost:8080/"
        },
        "id": "bmIlNbmkquK7",
        "outputId": "e519b7d7-f26a-4796-bb27-5eaf731d8979"
      },
      "execution_count": 10,
      "outputs": [
        {
          "output_type": "stream",
          "name": "stdout",
          "text": [
            "None\n",
            "{'string': 4, 'hi': 9, 'course': 'python'}\n",
            "<class 'dict'>\n"
          ]
        }
      ]
    },
    {
      "cell_type": "code",
      "source": [
        "x=(1,2,3,4,5,6,7,8,9)\n",
        "print(min(x))\n",
        "print(max(x))\n",
        "print(type(x))"
      ],
      "metadata": {
        "colab": {
          "base_uri": "https://localhost:8080/"
        },
        "id": "jQlP4WPmqynW",
        "outputId": "78fdab0d-e8cb-4840-c4d3-d65ea40d4814"
      },
      "execution_count": 11,
      "outputs": [
        {
          "output_type": "stream",
          "name": "stdout",
          "text": [
            "1\n",
            "9\n",
            "<class 'tuple'>\n"
          ]
        }
      ]
    },
    {
      "cell_type": "code",
      "source": [
        "x=(1,2,3,4,5,6,7,8,9)\n",
        "print(x.count(9))\n",
        "print(type(x))"
      ],
      "metadata": {
        "colab": {
          "base_uri": "https://localhost:8080/"
        },
        "id": "X9Q_Z_5qq3Pl",
        "outputId": "97ec9258-5a09-4ab4-d51b-ca5fc46d2ee0"
      },
      "execution_count": 12,
      "outputs": [
        {
          "output_type": "stream",
          "name": "stdout",
          "text": [
            "1\n",
            "<class 'tuple'>\n"
          ]
        }
      ]
    },
    {
      "cell_type": "code",
      "source": [
        "x=(1,2,3,4,5,6,7,8,9)\n",
        "print(x.index(9))\n",
        "print(type(x))"
      ],
      "metadata": {
        "colab": {
          "base_uri": "https://localhost:8080/"
        },
        "id": "Zz5rMUEyq66e",
        "outputId": "3592cefb-3e36-46ae-e164-08d95303ac7d"
      },
      "execution_count": 13,
      "outputs": [
        {
          "output_type": "stream",
          "name": "stdout",
          "text": [
            "8\n",
            "<class 'tuple'>\n"
          ]
        }
      ]
    },
    {
      "cell_type": "code",
      "source": [
        "a=[\"puppy\",\"priya\",1,3]\n",
        "a.append(\"navya\")\n",
        "print(a)"
      ],
      "metadata": {
        "colab": {
          "base_uri": "https://localhost:8080/"
        },
        "id": "MV6xBDVorEo-",
        "outputId": "87a08bb3-57d7-40e7-b257-ae55912021ed"
      },
      "execution_count": 14,
      "outputs": [
        {
          "output_type": "stream",
          "name": "stdout",
          "text": [
            "['puppy', 'priya', 1, 3, 'navya']\n"
          ]
        }
      ]
    },
    {
      "cell_type": "code",
      "source": [
        "h=[1,2,3,4,5,]\n",
        "h.clear()\n",
        "print(h)"
      ],
      "metadata": {
        "colab": {
          "base_uri": "https://localhost:8080/"
        },
        "id": "iv0eQc6trLVl",
        "outputId": "5faebd4f-e49f-4c51-f2f6-9216b94e104c"
      },
      "execution_count": 15,
      "outputs": [
        {
          "output_type": "stream",
          "name": "stdout",
          "text": [
            "[]\n"
          ]
        }
      ]
    },
    {
      "cell_type": "code",
      "source": [
        "g=[9,5,7,\"anna\"]\n",
        "g.copy()\n",
        "print(g)"
      ],
      "metadata": {
        "colab": {
          "base_uri": "https://localhost:8080/"
        },
        "id": "R2_2uhMxrOqD",
        "outputId": "d1a891aa-fd5b-45c5-db13-eb54ea729503"
      },
      "execution_count": 16,
      "outputs": [
        {
          "output_type": "stream",
          "name": "stdout",
          "text": [
            "[9, 5, 7, 'anna']\n"
          ]
        }
      ]
    },
    {
      "cell_type": "code",
      "source": [
        "fruits = [\"apple\", \"banana\", \"cherry\"]\n",
        "\n",
        "x = fruits.count(\"cherry\")\n",
        "\n",
        "print(x)"
      ],
      "metadata": {
        "colab": {
          "base_uri": "https://localhost:8080/"
        },
        "id": "rT8HkkIwrRbu",
        "outputId": "7f0bd5c8-252d-4a94-860c-d68a840da047"
      },
      "execution_count": 17,
      "outputs": [
        {
          "output_type": "stream",
          "name": "stdout",
          "text": [
            "1\n"
          ]
        }
      ]
    },
    {
      "cell_type": "code",
      "source": [
        "m=[\"telugu\", \"english\",\"hindi\"]\n",
        "n=[\"fox\",5,6,]\n",
        "m.extend(n)\n",
        "print(m)"
      ],
      "metadata": {
        "colab": {
          "base_uri": "https://localhost:8080/"
        },
        "id": "8q0Q-m42rVRn",
        "outputId": "65bf5396-f3b5-4fb8-e84b-a5942925c851"
      },
      "execution_count": 18,
      "outputs": [
        {
          "output_type": "stream",
          "name": "stdout",
          "text": [
            "['telugu', 'english', 'hindi', 'fox', 5, 6]\n"
          ]
        }
      ]
    },
    {
      "cell_type": "code",
      "source": [
        "priya=[2,3,4,5,6,7,]\n",
        "x = priya.index(7)\n",
        "print(x)"
      ],
      "metadata": {
        "colab": {
          "base_uri": "https://localhost:8080/"
        },
        "id": "4SWeU5zirYR0",
        "outputId": "e6ff299a-2881-4ddb-babc-f62316f28d59"
      },
      "execution_count": 19,
      "outputs": [
        {
          "output_type": "stream",
          "name": "stdout",
          "text": [
            "5\n"
          ]
        }
      ]
    },
    {
      "cell_type": "code",
      "source": [
        "fruits = ['apple', 'banana', 'cherry']\n",
        "\n",
        "fruits.insert(1, \"orange\")\n",
        "\n",
        "print(fruits)"
      ],
      "metadata": {
        "colab": {
          "base_uri": "https://localhost:8080/"
        },
        "id": "P9nlGhXsrbeu",
        "outputId": "28297e70-6859-46d1-9234-8fab0e89e0a2"
      },
      "execution_count": 20,
      "outputs": [
        {
          "output_type": "stream",
          "name": "stdout",
          "text": [
            "['apple', 'orange', 'banana', 'cherry']\n"
          ]
        }
      ]
    },
    {
      "cell_type": "code",
      "source": [
        "s=[7,8,9,0,6,5,3]\n",
        "s.pop(4)\n",
        "print(s)"
      ],
      "metadata": {
        "colab": {
          "base_uri": "https://localhost:8080/"
        },
        "id": "lAIgjizerfJG",
        "outputId": "d23fbf60-42b8-402f-ac85-a97c89737cd7"
      },
      "execution_count": 21,
      "outputs": [
        {
          "output_type": "stream",
          "name": "stdout",
          "text": [
            "[7, 8, 9, 0, 5, 3]\n"
          ]
        }
      ]
    },
    {
      "cell_type": "code",
      "source": [
        "q=[\"hello\",\"Nagar\",\"baby\"]\n",
        "q.remove(\"Nagar\")\n",
        "print(q)"
      ],
      "metadata": {
        "colab": {
          "base_uri": "https://localhost:8080/"
        },
        "id": "3q7xPQ05riun",
        "outputId": "6d57a527-a2ed-47a9-8a39-99c337fa357f"
      },
      "execution_count": 22,
      "outputs": [
        {
          "output_type": "stream",
          "name": "stdout",
          "text": [
            "['hello', 'baby']\n"
          ]
        }
      ]
    },
    {
      "cell_type": "code",
      "source": [
        "e=[0,9,8,7,6,5,4,3,2,1]\n",
        "e.reverse()\n",
        "print(e)"
      ],
      "metadata": {
        "colab": {
          "base_uri": "https://localhost:8080/"
        },
        "id": "Cp218gtqrmx8",
        "outputId": "7d015610-5c20-46b1-e09b-8c46990cb1f6"
      },
      "execution_count": 23,
      "outputs": [
        {
          "output_type": "stream",
          "name": "stdout",
          "text": [
            "[1, 2, 3, 4, 5, 6, 7, 8, 9, 0]\n"
          ]
        }
      ]
    },
    {
      "cell_type": "code",
      "source": [
        "y=[\"run\",\"egg\",\"apple\"]\n",
        "y.sort()\n",
        "print(y)"
      ],
      "metadata": {
        "colab": {
          "base_uri": "https://localhost:8080/"
        },
        "id": "0__6nC3lrrDv",
        "outputId": "c099fbd4-cb3e-4bed-94b9-9755464165de"
      },
      "execution_count": 24,
      "outputs": [
        {
          "output_type": "stream",
          "name": "stdout",
          "text": [
            "['apple', 'egg', 'run']\n"
          ]
        }
      ]
    },
    {
      "cell_type": "code",
      "source": [
        "d={7,6,5,9}\n",
        "print(d)\n",
        "print(type(d))"
      ],
      "metadata": {
        "colab": {
          "base_uri": "https://localhost:8080/"
        },
        "id": "Zah8JfcvruZn",
        "outputId": "c28dea12-89d8-42fe-d388-5efc4767e44b"
      },
      "execution_count": 25,
      "outputs": [
        {
          "output_type": "stream",
          "name": "stdout",
          "text": [
            "{9, 5, 6, 7}\n",
            "<class 'set'>\n"
          ]
        }
      ]
    },
    {
      "cell_type": "code",
      "source": [
        "l=(1,2,3,4,7)\n",
        "print(l)\n",
        "print(type(l))"
      ],
      "metadata": {
        "colab": {
          "base_uri": "https://localhost:8080/"
        },
        "id": "Y_CrfDsTrxoy",
        "outputId": "7e93cf6e-fcb6-4ee0-d969-27b871377a00"
      },
      "execution_count": 26,
      "outputs": [
        {
          "output_type": "stream",
          "name": "stdout",
          "text": [
            "(1, 2, 3, 4, 7)\n",
            "<class 'tuple'>\n"
          ]
        }
      ]
    }
  ]
}