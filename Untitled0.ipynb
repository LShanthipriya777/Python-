{
  "nbformat": 4,
  "nbformat_minor": 0,
  "metadata": {
    "colab": {
      "provenance": [],
      "authorship_tag": "ABX9TyP++oHhJKK9wZrEaLuZT0/8",
      "include_colab_link": true
    },
    "kernelspec": {
      "name": "python3",
      "display_name": "Python 3"
    },
    "language_info": {
      "name": "python"
    }
  },
  "cells": [
    {
      "cell_type": "markdown",
      "metadata": {
        "id": "view-in-github",
        "colab_type": "text"
      },
      "source": [
        "<a href=\"https://colab.research.google.com/github/LShanthipriya777/Python-/blob/main/Untitled0.ipynb\" target=\"_parent\"><img src=\"https://colab.research.google.com/assets/colab-badge.svg\" alt=\"Open In Colab\"/></a>"
      ]
    },
    {
      "cell_type": "code",
      "execution_count": null,
      "metadata": {
        "colab": {
          "base_uri": "https://localhost:8080/"
        },
        "id": "Xx-oXhAI3cQi",
        "outputId": "2e883112-598f-4ad6-b645-6320cd9a0b44"
      },
      "outputs": [
        {
          "output_type": "stream",
          "name": "stdout",
          "text": [
            "Hello, and welcome to my world.\n"
          ]
        }
      ],
      "source": [
        "y = \"hello, and welcome to my world.\"\n",
        "x = y.capitalize()\n",
        "print (x)"
      ]
    },
    {
      "cell_type": "code",
      "source": [
        "h=\"I love you jesus\"\n",
        "k=h.capitalize()\n",
        "print(h)"
      ],
      "metadata": {
        "colab": {
          "base_uri": "https://localhost:8080/"
        },
        "id": "llH_1qUb3kvD",
        "outputId": "9ae6692a-dce0-4bfc-a6a7-2606b7fa2f3d"
      },
      "execution_count": null,
      "outputs": [
        {
          "output_type": "stream",
          "name": "stdout",
          "text": [
            "I love you jesus\n"
          ]
        }
      ]
    },
    {
      "cell_type": "code",
      "source": [
        "o=\"mom\"\n",
        "g=o.capitalize()\n",
        "print(o)"
      ],
      "metadata": {
        "colab": {
          "base_uri": "https://localhost:8080/"
        },
        "id": "-FsB4VyH32S1",
        "outputId": "83788955-4337-42b7-ef7c-ccce7fbb7a4b"
      },
      "execution_count": null,
      "outputs": [
        {
          "output_type": "stream",
          "name": "stdout",
          "text": [
            "mom\n"
          ]
        }
      ]
    },
    {
      "cell_type": "code",
      "source": [
        "txt = \"Hello, And Welcome To My World!\"\n",
        "x = txt.casefold()\n",
        "print(x)"
      ],
      "metadata": {
        "colab": {
          "base_uri": "https://localhost:8080/"
        },
        "id": "EDfVOSiW32jP",
        "outputId": "8b21eeeb-bf06-4414-b294-d7bda015cddb"
      },
      "execution_count": null,
      "outputs": [
        {
          "output_type": "stream",
          "name": "stdout",
          "text": [
            "hello, and welcome to my world!\n"
          ]
        }
      ]
    },
    {
      "cell_type": "code",
      "source": [
        "m=\"Taj Mahal is the most beautiful place\"\n",
        "p=m.casefold()\n",
        "print(p)"
      ],
      "metadata": {
        "colab": {
          "base_uri": "https://localhost:8080/"
        },
        "id": "z437-lIm4lqB",
        "outputId": "4a2382ee-6508-406e-a8dc-906099c067ce"
      },
      "execution_count": null,
      "outputs": [
        {
          "output_type": "stream",
          "name": "stdout",
          "text": [
            "taj mahal is the most beautiful place\n"
          ]
        }
      ]
    },
    {
      "cell_type": "code",
      "source": [
        "S=\"Shanthi Priya\"\n",
        "T=S.casefold()\n",
        "print(T)"
      ],
      "metadata": {
        "colab": {
          "base_uri": "https://localhost:8080/"
        },
        "id": "zA-_A24V43Pn",
        "outputId": "c1b10c74-dc9d-4963-f313-0f408c1a7d74"
      },
      "execution_count": null,
      "outputs": [
        {
          "output_type": "stream",
          "name": "stdout",
          "text": [
            "shanthi priya\n"
          ]
        }
      ]
    },
    {
      "cell_type": "code",
      "source": [
        "txt = \"banana\"\n",
        "x = txt.center(20)\n",
        "print(x)"
      ],
      "metadata": {
        "colab": {
          "base_uri": "https://localhost:8080/"
        },
        "id": "67j5eiEz5F5O",
        "outputId": "6c67f552-3542-46eb-e806-c83b1c411ab4"
      },
      "execution_count": null,
      "outputs": [
        {
          "output_type": "stream",
          "name": "stdout",
          "text": [
            "       banana       \n"
          ]
        }
      ]
    },
    {
      "cell_type": "code",
      "source": [
        "Z=\"Sumalatha\"\n",
        "f=Z.center(50)\n",
        "print(f)"
      ],
      "metadata": {
        "colab": {
          "base_uri": "https://localhost:8080/"
        },
        "id": "wZIdKnRG5Z_9",
        "outputId": "56f31b9d-eab5-497b-b6e7-6c1bddc4ddda"
      },
      "execution_count": null,
      "outputs": [
        {
          "output_type": "stream",
          "name": "stdout",
          "text": [
            "                    Sumalatha                     \n"
          ]
        }
      ]
    },
    {
      "cell_type": "code",
      "source": [
        "txt = \"I love apples, apple are my favorite fruit\"\n",
        "x = txt.count(\"apple\")\n",
        "print(x)"
      ],
      "metadata": {
        "colab": {
          "base_uri": "https://localhost:8080/"
        },
        "id": "4hS4YFvy6EWR",
        "outputId": "f2a7f9d4-adda-4d4a-af33-2bbf5f810df7"
      },
      "execution_count": null,
      "outputs": [
        {
          "output_type": "stream",
          "name": "stdout",
          "text": [
            "2\n"
          ]
        }
      ]
    },
    {
      "cell_type": "code",
      "source": [
        "Q=\"My mom is queen and mom is my role model\"\n",
        "X=Q.count(\"mom\")\n",
        "print(X)"
      ],
      "metadata": {
        "colab": {
          "base_uri": "https://localhost:8080/"
        },
        "id": "8eB3u0OS6nXj",
        "outputId": "5388108e-2566-4364-cdac-05a430423165"
      },
      "execution_count": null,
      "outputs": [
        {
          "output_type": "stream",
          "name": "stdout",
          "text": [
            "2\n"
          ]
        }
      ]
    },
    {
      "cell_type": "code",
      "source": [
        "G=\"cherry is good and banana is also good\"\n",
        "H=G.count(\"good\")\n",
        "print(H)"
      ],
      "metadata": {
        "colab": {
          "base_uri": "https://localhost:8080/"
        },
        "id": "iELIzvUK6-M6",
        "outputId": "db7ff48b-e8d8-4141-b49e-a97fd51ef7cf"
      },
      "execution_count": null,
      "outputs": [
        {
          "output_type": "stream",
          "name": "stdout",
          "text": [
            "2\n"
          ]
        }
      ]
    },
    {
      "cell_type": "code",
      "source": [
        "txt = \"Hello, welcome to my world.\"\n",
        "x = txt.endswith(\".\")\n",
        "print(x)"
      ],
      "metadata": {
        "colab": {
          "base_uri": "https://localhost:8080/"
        },
        "id": "gqm2ICyR7a3d",
        "outputId": "91aec5dd-a14c-4d32-a4a1-0b36016fc6a6"
      },
      "execution_count": null,
      "outputs": [
        {
          "output_type": "stream",
          "name": "stdout",
          "text": [
            "True\n"
          ]
        }
      ]
    },
    {
      "cell_type": "code",
      "source": [
        "K=\"happy.\"\n",
        "M=K.endswith(\".\")\n",
        "print(M)"
      ],
      "metadata": {
        "colab": {
          "base_uri": "https://localhost:8080/"
        },
        "id": "NLzkoPwN8PA8",
        "outputId": "ad058477-991f-42fd-f5d8-f19f65fb50c4"
      },
      "execution_count": null,
      "outputs": [
        {
          "output_type": "stream",
          "name": "stdout",
          "text": [
            "True\n"
          ]
        }
      ]
    },
    {
      "cell_type": "code",
      "source": [
        "K=\"Shanthi*\"\n",
        "M=K.endswith(\"*\")\n",
        "print(M)"
      ],
      "metadata": {
        "colab": {
          "base_uri": "https://localhost:8080/"
        },
        "id": "83wd8ZW78QS6",
        "outputId": "7f84fc18-3435-4419-82f2-1e10f56d106e"
      },
      "execution_count": null,
      "outputs": [
        {
          "output_type": "stream",
          "name": "stdout",
          "text": [
            "True\n"
          ]
        }
      ]
    },
    {
      "cell_type": "code",
      "source": [
        "txt = \"H\\te\\tl\\tl\\to\"\n",
        "x =  txt.expandtabs(2)\n",
        "print(x)"
      ],
      "metadata": {
        "colab": {
          "base_uri": "https://localhost:8080/"
        },
        "id": "9bcn-4Gp8RUb",
        "outputId": "a53cf6b7-d1b6-43d6-c252-37339a2cd83c"
      },
      "execution_count": null,
      "outputs": [
        {
          "output_type": "stream",
          "name": "stdout",
          "text": [
            "H e l l o\n"
          ]
        }
      ]
    },
    {
      "cell_type": "code",
      "source": [
        "t = \"H\\ta\\tp\\tp\\ty\"\n",
        "x =  t.expandtabs(2)\n",
        "print(x)"
      ],
      "metadata": {
        "colab": {
          "base_uri": "https://localhost:8080/"
        },
        "id": "aqiqMYN18WBo",
        "outputId": "45e42c94-c7c9-488c-abfa-54c65cd8bd05"
      },
      "execution_count": null,
      "outputs": [
        {
          "output_type": "stream",
          "name": "stdout",
          "text": [
            "H a p p y\n"
          ]
        }
      ]
    },
    {
      "cell_type": "code",
      "source": [
        "t = \"j\\te\\ts\\tu\\ts\"\n",
        "x =  t.expandtabs(1)\n",
        "print(x)"
      ],
      "metadata": {
        "colab": {
          "base_uri": "https://localhost:8080/"
        },
        "id": "DGPgn6QP8W0z",
        "outputId": "20e1cf0b-d0e5-4ca7-df86-35b5fd821e0f"
      },
      "execution_count": null,
      "outputs": [
        {
          "output_type": "stream",
          "name": "stdout",
          "text": [
            "j e s u s\n"
          ]
        }
      ]
    },
    {
      "cell_type": "code",
      "source": [
        "txt = \"Hello, welcome to my world.\"\n",
        "x = txt.find(\"welcome\")\n",
        "print(x)"
      ],
      "metadata": {
        "colab": {
          "base_uri": "https://localhost:8080/"
        },
        "id": "ANlrqhpf8vm0",
        "outputId": "b7ab33be-46eb-42b3-8c37-963ba8a1676f"
      },
      "execution_count": null,
      "outputs": [
        {
          "output_type": "stream",
          "name": "stdout",
          "text": [
            "7\n"
          ]
        }
      ]
    },
    {
      "cell_type": "code",
      "source": [
        "H = \"welcome to my world\"\n",
        "x = H.find(\"world\")\n",
        "print(x)"
      ],
      "metadata": {
        "colab": {
          "base_uri": "https://localhost:8080/"
        },
        "id": "w8Cvapfy9ESP",
        "outputId": "5c1c6365-b7ec-4d60-cc35-8268258078ed"
      },
      "execution_count": null,
      "outputs": [
        {
          "output_type": "stream",
          "name": "stdout",
          "text": [
            "14\n"
          ]
        }
      ]
    },
    {
      "cell_type": "code",
      "source": [
        "J = \"love ra bangaram\"\n",
        "x = J.find(\"bangaram\")\n",
        "print(x)"
      ],
      "metadata": {
        "colab": {
          "base_uri": "https://localhost:8080/"
        },
        "id": "jhUhKd0e9L3-",
        "outputId": "98b72e0b-9971-488a-c293-9bcd573bbc35"
      },
      "execution_count": null,
      "outputs": [
        {
          "output_type": "stream",
          "name": "stdout",
          "text": [
            "8\n"
          ]
        }
      ]
    },
    {
      "cell_type": "code",
      "source": [
        "txt = \"Company12\"\n",
        "x = txt.isalnum()\n",
        "print(x)"
      ],
      "metadata": {
        "colab": {
          "base_uri": "https://localhost:8080/"
        },
        "id": "aycjz-2W9Mh_",
        "outputId": "be09d00d-ec35-44b5-ead1-f6d82d3db82f"
      },
      "execution_count": null,
      "outputs": [
        {
          "output_type": "stream",
          "name": "stdout",
          "text": [
            "True\n"
          ]
        }
      ]
    },
    {
      "cell_type": "code",
      "source": [
        "txt = \"darling77\"\n",
        "x = txt.isalnum()\n",
        "print(x)"
      ],
      "metadata": {
        "colab": {
          "base_uri": "https://localhost:8080/"
        },
        "id": "9u4gBTjqAXVf",
        "outputId": "1d68ccb2-3442-460b-d015-f5105e39970f"
      },
      "execution_count": null,
      "outputs": [
        {
          "output_type": "stream",
          "name": "stdout",
          "text": [
            "True\n"
          ]
        }
      ]
    },
    {
      "cell_type": "code",
      "source": [
        "D = \"Varalakshmi\"\n",
        "x = D.isalnum()\n",
        "print(x)"
      ],
      "metadata": {
        "colab": {
          "base_uri": "https://localhost:8080/"
        },
        "id": "2kHfpkx7Ahzj",
        "outputId": "f13305ed-e632-40f9-f71b-d27dae08f700"
      },
      "execution_count": null,
      "outputs": [
        {
          "output_type": "stream",
          "name": "stdout",
          "text": [
            "True\n"
          ]
        }
      ]
    },
    {
      "cell_type": "code",
      "source": [
        "txt = \"CompanyX\"\n",
        "x = txt.isalpha()\n",
        "print(x)"
      ],
      "metadata": {
        "colab": {
          "base_uri": "https://localhost:8080/"
        },
        "id": "9HH_CMhCAoZg",
        "outputId": "4aa5c6b4-3510-4acb-8fe4-b88e00c36860"
      },
      "execution_count": null,
      "outputs": [
        {
          "output_type": "stream",
          "name": "stdout",
          "text": [
            "True\n"
          ]
        }
      ]
    },
    {
      "cell_type": "code",
      "source": [
        "txt = \"Harsh\"\n",
        "x = txt.isalpha()\n",
        "print(x)"
      ],
      "metadata": {
        "colab": {
          "base_uri": "https://localhost:8080/"
        },
        "id": "bWD7MOTXAv2E",
        "outputId": "48486269-68f8-4dae-cd37-260549e55304"
      },
      "execution_count": null,
      "outputs": [
        {
          "output_type": "stream",
          "name": "stdout",
          "text": [
            "True\n"
          ]
        }
      ]
    },
    {
      "cell_type": "code",
      "source": [
        "txt = \"vasmi143\"\n",
        "x = txt.isalpha()\n",
        "print(x)"
      ],
      "metadata": {
        "colab": {
          "base_uri": "https://localhost:8080/"
        },
        "id": "AqvLJO6nAyYJ",
        "outputId": "4cedb6d2-275e-45e1-b6c5-edc9ad1d5fde"
      },
      "execution_count": null,
      "outputs": [
        {
          "output_type": "stream",
          "name": "stdout",
          "text": [
            "False\n"
          ]
        }
      ]
    },
    {
      "cell_type": "code",
      "source": [
        "txt = \"hello world!\"\n",
        "x = txt.islower()\n",
        "print(x)"
      ],
      "metadata": {
        "colab": {
          "base_uri": "https://localhost:8080/"
        },
        "id": "pSFDdiIiA71M",
        "outputId": "ef887c08-5df2-4faf-9d55-82a7e36fb506"
      },
      "execution_count": null,
      "outputs": [
        {
          "output_type": "stream",
          "name": "stdout",
          "text": [
            "True\n"
          ]
        }
      ]
    },
    {
      "cell_type": "code",
      "source": [
        "txt = \"Akhil anna is my important person\"\n",
        "x = txt.islower()\n",
        "print(x)"
      ],
      "metadata": {
        "colab": {
          "base_uri": "https://localhost:8080/"
        },
        "id": "oYPj7JZHBAz8",
        "outputId": "b0262f0a-8bea-454e-d014-35a72288f6de"
      },
      "execution_count": null,
      "outputs": [
        {
          "output_type": "stream",
          "name": "stdout",
          "text": [
            "False\n"
          ]
        }
      ]
    },
    {
      "cell_type": "code",
      "source": [
        "P = \"nglish\"\n",
        "J= P.islower()\n",
        "print(J)"
      ],
      "metadata": {
        "colab": {
          "base_uri": "https://localhost:8080/"
        },
        "id": "YLRD4mraBP9O",
        "outputId": "0f2e3af9-b34e-4bf3-9e70-8f9783737b32"
      },
      "execution_count": null,
      "outputs": [
        {
          "output_type": "stream",
          "name": "stdout",
          "text": [
            "True\n"
          ]
        }
      ]
    },
    {
      "cell_type": "code",
      "source": [
        "txt = \"banana\"\n",
        "x = txt.ljust(20)\n",
        "print(x, \"is my favorite fruit.\")"
      ],
      "metadata": {
        "colab": {
          "base_uri": "https://localhost:8080/"
        },
        "id": "qLVdpL5PBerJ",
        "outputId": "43a62f49-c87d-4631-ab09-3b61cbaa86c0"
      },
      "execution_count": null,
      "outputs": [
        {
          "output_type": "stream",
          "name": "stdout",
          "text": [
            "banana               is my favorite fruit.\n"
          ]
        }
      ]
    },
    {
      "cell_type": "code",
      "source": [
        "M= \"kali\"\n",
        "x = M.ljust(10)\n",
        "print(x, \"nv em chestuanvu.\")"
      ],
      "metadata": {
        "colab": {
          "base_uri": "https://localhost:8080/"
        },
        "id": "bh4PndgOBhfh",
        "outputId": "79ed493f-a826-4515-bdba-a32c3d10da37"
      },
      "execution_count": null,
      "outputs": [
        {
          "output_type": "stream",
          "name": "stdout",
          "text": [
            "kali       nv em chestuanvu.\n"
          ]
        }
      ]
    },
    {
      "cell_type": "code",
      "source": [
        "L= \"english\"\n",
        "x = L.ljust(20)\n",
        "print(x, \"is my favorite person.\")"
      ],
      "metadata": {
        "colab": {
          "base_uri": "https://localhost:8080/"
        },
        "id": "-Ct-g339Brrk",
        "outputId": "15f99502-adf7-4536-fd6f-f7bb3b5f9491"
      },
      "execution_count": null,
      "outputs": [
        {
          "output_type": "stream",
          "name": "stdout",
          "text": [
            "english              is my favorite person.\n"
          ]
        }
      ]
    },
    {
      "cell_type": "code",
      "source": [
        "txt = \"     banana     \"\n",
        "x = txt.rstrip()\n",
        "print(\"of all fruits\", x, \"is my favorite\")"
      ],
      "metadata": {
        "colab": {
          "base_uri": "https://localhost:8080/"
        },
        "id": "5klqWRBQB6CK",
        "outputId": "eb24b733-233e-4170-d994-dd91ed1744b5"
      },
      "execution_count": null,
      "outputs": [
        {
          "output_type": "stream",
          "name": "stdout",
          "text": [
            "of all fruits      banana is my favorite\n"
          ]
        }
      ]
    },
    {
      "cell_type": "code",
      "source": [
        "b = \"onion \"\n",
        "x = b.rstrip()\n",
        "print(\"cherry\", x, \"ladyfinger\")"
      ],
      "metadata": {
        "colab": {
          "base_uri": "https://localhost:8080/"
        },
        "id": "o5JUPn8aCBBh",
        "outputId": "93c36e06-a6f7-41f0-dee4-4b4a48ce6039"
      },
      "execution_count": null,
      "outputs": [
        {
          "output_type": "stream",
          "name": "stdout",
          "text": [
            "cherry onion ladyfinger\n"
          ]
        }
      ]
    },
    {
      "cell_type": "code",
      "source": [
        "K= \"mom\"\n",
        "O= K.rstrip()\n",
        "print(\"dad\", O, \"chelli\")"
      ],
      "metadata": {
        "colab": {
          "base_uri": "https://localhost:8080/"
        },
        "id": "5b0Udy_uCTWS",
        "outputId": "ad56f5a7-3547-47b6-ac96-bd41115bfaab"
      },
      "execution_count": null,
      "outputs": [
        {
          "output_type": "stream",
          "name": "stdout",
          "text": [
            "dad mom chelli\n"
          ]
        }
      ]
    },
    {
      "cell_type": "code",
      "source": [
        "txt = \"Hello, welcome to my world.\"\n",
        "x = txt.startswith(\"Hello\")\n",
        "print(x)"
      ],
      "metadata": {
        "colab": {
          "base_uri": "https://localhost:8080/"
        },
        "id": "xiUNYMpzCleU",
        "outputId": "d1cfa34c-8bf4-4836-e152-be1caf730e04"
      },
      "execution_count": null,
      "outputs": [
        {
          "output_type": "stream",
          "name": "stdout",
          "text": [
            "True\n"
          ]
        }
      ]
    },
    {
      "cell_type": "code",
      "source": [
        "K = \"I am very good girl.\"\n",
        "S= K.startswith(\"I\")\n",
        "print(S)"
      ],
      "metadata": {
        "colab": {
          "base_uri": "https://localhost:8080/"
        },
        "id": "MTwcImLZCn6R",
        "outputId": "f6f8c6e4-185b-4e26-a89a-210ce50f270d"
      },
      "execution_count": null,
      "outputs": [
        {
          "output_type": "stream",
          "name": "stdout",
          "text": [
            "True\n"
          ]
        }
      ]
    },
    {
      "cell_type": "code",
      "source": [
        "U = \"vishuuu is very nice to me\"\n",
        "M = U.startswith(\"vishuuu\")\n",
        "print(M)"
      ],
      "metadata": {
        "colab": {
          "base_uri": "https://localhost:8080/"
        },
        "id": "klNvOWoeCr2y",
        "outputId": "63887231-1489-4662-9dd4-0648ca764d17"
      },
      "execution_count": null,
      "outputs": [
        {
          "output_type": "stream",
          "name": "stdout",
          "text": [
            "True\n"
          ]
        }
      ]
    },
    {
      "cell_type": "code",
      "source": [
        "txt = \"     banana     \"\n",
        "x = txt.lstrip()\n",
        "print(\"of all fruits\", x, \"is my favorite\")"
      ],
      "metadata": {
        "colab": {
          "base_uri": "https://localhost:8080/"
        },
        "id": "1RDR_HxsDmiE",
        "outputId": "4c043c66-db2b-495d-987b-6da7729de7ad"
      },
      "execution_count": null,
      "outputs": [
        {
          "output_type": "stream",
          "name": "stdout",
          "text": [
            "of all fruits banana      is my favorite\n"
          ]
        }
      ]
    },
    {
      "cell_type": "code",
      "source": [
        "V = \"    dad    \"\n",
        "W = txt.lstrip()\n",
        "print(\"my\", V, \"is my king\")"
      ],
      "metadata": {
        "colab": {
          "base_uri": "https://localhost:8080/"
        },
        "id": "Vri2QN5MDrI5",
        "outputId": "01bf1515-6dff-4cf6-bcd2-3f8ebc0afa5f"
      },
      "execution_count": null,
      "outputs": [
        {
          "output_type": "stream",
          "name": "stdout",
          "text": [
            "my     dad     is my king\n"
          ]
        }
      ]
    },
    {
      "cell_type": "code",
      "source": [
        "L= \" brithday\"\n",
        "K= L.lstrip()\n",
        "print(\"happy\", K, \"to me\")"
      ],
      "metadata": {
        "colab": {
          "base_uri": "https://localhost:8080/"
        },
        "id": "CSZD3MpHDtrx",
        "outputId": "af88fb31-f287-46b0-9ff3-28c692493f16"
      },
      "execution_count": null,
      "outputs": [
        {
          "output_type": "stream",
          "name": "stdout",
          "text": [
            "happy brithday to me\n"
          ]
        }
      ]
    },
    {
      "cell_type": "code",
      "source": [
        "txt = \"Mi casa, su casa.\"\n",
        "x = txt.rfind(\"casa\")\n",
        "print(x)"
      ],
      "metadata": {
        "colab": {
          "base_uri": "https://localhost:8080/"
        },
        "id": "i4nz0TFCKClF",
        "outputId": "f1d2ad10-786b-4573-aec7-fc2a4673759b"
      },
      "execution_count": null,
      "outputs": [
        {
          "output_type": "stream",
          "name": "stdout",
          "text": [
            "12\n"
          ]
        }
      ]
    },
    {
      "cell_type": "code",
      "source": [
        "I = \"python is python that use in python.\"\n",
        "B= I.rfind(\"python\")\n",
        "print(B)"
      ],
      "metadata": {
        "colab": {
          "base_uri": "https://localhost:8080/"
        },
        "id": "ufDgLZEyKIuU",
        "outputId": "30605761-8e83-4832-f94d-c3e290df81e4"
      },
      "execution_count": null,
      "outputs": [
        {
          "output_type": "stream",
          "name": "stdout",
          "text": [
            "29\n"
          ]
        }
      ]
    },
    {
      "cell_type": "code",
      "source": [
        " I= \"English is highest langauge\"\n",
        "B= I.rfind(\"highest\")\n",
        "print(B)"
      ],
      "metadata": {
        "colab": {
          "base_uri": "https://localhost:8080/"
        },
        "id": "ShW0Q18WKix5",
        "outputId": "6525c791-91ad-4788-b5e3-754e5171a8d7"
      },
      "execution_count": null,
      "outputs": [
        {
          "output_type": "stream",
          "name": "stdout",
          "text": [
            "11\n"
          ]
        }
      ]
    },
    {
      "cell_type": "code",
      "source": [
        "txt = \"I like bananas\"\n",
        "x = txt.replace(\"bananas\", \"apples\")\n",
        "print(x)"
      ],
      "metadata": {
        "colab": {
          "base_uri": "https://localhost:8080/"
        },
        "id": "aMf6-u8MMAVA",
        "outputId": "7e71e5e0-707e-4eca-b3fb-cbca5dc75e9f"
      },
      "execution_count": null,
      "outputs": [
        {
          "output_type": "stream",
          "name": "stdout",
          "text": [
            "I like apples\n"
          ]
        }
      ]
    },
    {
      "cell_type": "code",
      "source": [
        "t= \"I like mom\"\n",
        "x =t.replace(\"mom\", \"dad\")\n",
        "print(x)"
      ],
      "metadata": {
        "colab": {
          "base_uri": "https://localhost:8080/"
        },
        "id": "evni-YS-MDSD",
        "outputId": "127fb170-b6a0-4eff-d2b2-b8196ac00da6"
      },
      "execution_count": null,
      "outputs": [
        {
          "output_type": "stream",
          "name": "stdout",
          "text": [
            "I like dad\n"
          ]
        }
      ]
    },
    {
      "cell_type": "code",
      "source": [
        "H= \"telugu is third language\"\n",
        "x =H.replace(\"third\", \"second\")\n",
        "print(x)"
      ],
      "metadata": {
        "colab": {
          "base_uri": "https://localhost:8080/"
        },
        "id": "1HSvLTKkMDrC",
        "outputId": "6aa199d1-b05c-430b-c017-b89eb94af2ac"
      },
      "execution_count": null,
      "outputs": [
        {
          "output_type": "stream",
          "name": "stdout",
          "text": [
            "telugu is second language\n"
          ]
        }
      ]
    },
    {
      "cell_type": "code",
      "source": [
        "txt = \"Company123\"\n",
        "x = txt.isascii()\n",
        "print(x)"
      ],
      "metadata": {
        "colab": {
          "base_uri": "https://localhost:8080/"
        },
        "id": "rUemM03GMtqj",
        "outputId": "627e79c4-088c-46ee-a32b-e03e2fbd46bb"
      },
      "execution_count": null,
      "outputs": [
        {
          "output_type": "stream",
          "name": "stdout",
          "text": [
            "True\n"
          ]
        }
      ]
    },
    {
      "cell_type": "code",
      "source": [
        "J= \"Company\"\n",
        "x = J.isascii()\n",
        "print(x)"
      ],
      "metadata": {
        "colab": {
          "base_uri": "https://localhost:8080/"
        },
        "id": "9W01Y3duOn0C",
        "outputId": "ff6f2e37-62fa-4694-d6ec-298224d5f99e"
      },
      "execution_count": null,
      "outputs": [
        {
          "output_type": "stream",
          "name": "stdout",
          "text": [
            "True\n"
          ]
        }
      ]
    },
    {
      "cell_type": "code",
      "source": [
        "K= \"123\"\n",
        "H= K.isascii()\n",
        "print(H)"
      ],
      "metadata": {
        "colab": {
          "base_uri": "https://localhost:8080/"
        },
        "id": "zjQcbzpQOxOB",
        "outputId": "2c5a2d25-0f2a-4005-b0f4-0687292e886c"
      },
      "execution_count": null,
      "outputs": [
        {
          "output_type": "stream",
          "name": "stdout",
          "text": [
            "True\n"
          ]
        }
      ]
    }
  ]
}