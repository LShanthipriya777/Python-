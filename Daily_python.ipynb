{
  "cells": [
    {
      "cell_type": "markdown",
      "metadata": {
        "id": "view-in-github",
        "colab_type": "text"
      },
      "source": [
        "<a href=\"https://colab.research.google.com/github/LShanthipriya777/Python-/blob/main/Daily_python.ipynb\" target=\"_parent\"><img src=\"https://colab.research.google.com/assets/colab-badge.svg\" alt=\"Open In Colab\"/></a>"
      ]
    },
    {
      "cell_type": "code",
      "execution_count": null,
      "metadata": {
        "colab": {
          "base_uri": "https://localhost:8080/"
        },
        "id": "fjioqriLKLBW",
        "outputId": "9e99ba91-6f3f-4de0-8a70-0dded38e449f"
      },
      "outputs": [
        {
          "name": "stdout",
          "output_type": "stream",
          "text": [
            "26\n",
            "**************************\n",
            "**************************\n",
            "**************************\n",
            "**************************\n",
            "**************************\n",
            "**************************\n",
            "**************************\n",
            "**************************\n",
            "**************************\n",
            "**************************\n",
            "**************************\n",
            "**************************\n",
            "**************************\n",
            "**************************\n",
            "**************************\n",
            "**************************\n",
            "**************************\n",
            "**************************\n",
            "**************************\n",
            "**************************\n",
            "**************************\n",
            "**************************\n",
            "**************************\n",
            "**************************\n",
            "**************************\n",
            "**************************\n"
          ]
        }
      ],
      "source": [
        "n=int(input())\n",
        "for i in range (n):\n",
        "    for j in range (n):\n",
        "        print(\"*\",end=\"\")\n",
        "    print()"
      ]
    },
    {
      "cell_type": "code",
      "source": [
        "num=15\n",
        "num_sqrt=num**0.5\n",
        "print(num_sqrt)"
      ],
      "metadata": {
        "colab": {
          "base_uri": "https://localhost:8080/"
        },
        "id": "YuyvCLohqf-h",
        "outputId": "cfdf1647-bd82-498f-ec47-635897e5ed8b"
      },
      "execution_count": null,
      "outputs": [
        {
          "output_type": "stream",
          "name": "stdout",
          "text": [
            "3.872983346207417\n"
          ]
        }
      ]
    },
    {
      "cell_type": "code",
      "execution_count": null,
      "metadata": {
        "colab": {
          "base_uri": "https://localhost:8080/"
        },
        "id": "9LZ95bqnqOeU",
        "outputId": "6d875cd8-f22e-42bf-a20e-5dc801ac5c4c"
      },
      "outputs": [
        {
          "output_type": "stream",
          "name": "stdout",
          "text": [
            "1\n",
            "0\n"
          ]
        }
      ],
      "source": [
        "n=int (input ())\n",
        "i=0\n",
        "while (i<n):\n",
        "  print(i)\n",
        "  i=+1"
      ]
    },
    {
      "cell_type": "code",
      "execution_count": null,
      "metadata": {
        "colab": {
          "base_uri": "https://localhost:8080/"
        },
        "id": "lLuN1PEIQqNZ",
        "outputId": "b9db74e2-5952-465e-db2b-73b5c6f0e6ab"
      },
      "outputs": [
        {
          "name": "stdout",
          "output_type": "stream",
          "text": [
            "A \n",
            "B C \n",
            "D E F \n",
            "G H I J \n",
            "K L M N O \n"
          ]
        }
      ],
      "source": [
        "n = 5\n",
        "ch = 65\n",
        "for i in range(n):\n",
        "    for j in range(i + 1):\n",
        "        print(chr(ch), end=' ')\n",
        "        ch += 1\n",
        "    print()"
      ]
    },
    {
      "cell_type": "code",
      "execution_count": null,
      "metadata": {
        "colab": {
          "base_uri": "https://localhost:8080/"
        },
        "id": "N06kITWMQ9vH",
        "outputId": "25a3c0d9-6131-4b87-a1ba-dfaa9b8381f1"
      },
      "outputs": [
        {
          "name": "stdout",
          "output_type": "stream",
          "text": [
            "A \n",
            "B B \n",
            "C C C \n",
            "D D D D \n"
          ]
        }
      ],
      "source": [
        "rows = 4\n",
        "\n",
        "for i in range(rows):\n",
        "    ch = chr(65 + i)\n",
        "    for j in range(i + 1):\n",
        "        print(ch, end=\" \")\n",
        "    print()"
      ]
    },
    {
      "cell_type": "code",
      "execution_count": null,
      "metadata": {
        "colab": {
          "base_uri": "https://localhost:8080/"
        },
        "id": "1EGKh3nWUv9f",
        "outputId": "a0e22f7b-94a0-4da7-94f9-4f31770dde37"
      },
      "outputs": [
        {
          "name": "stdout",
          "output_type": "stream",
          "text": [
            "A\n",
            "BB\n",
            "CCC\n",
            "DDDD\n"
          ]
        }
      ],
      "source": [
        "for i in range (65,69):\n",
        "    for j in range (65,i+1):\n",
        "        print (chr(i),end=\"\")\n",
        "    print()"
      ]
    },
    {
      "cell_type": "code",
      "execution_count": null,
      "metadata": {
        "colab": {
          "base_uri": "https://localhost:8080/"
        },
        "id": "uk0h8clKVRn4",
        "outputId": "2c2a3e37-214a-42ef-f831-43ae929ea719"
      },
      "outputs": [
        {
          "name": "stdout",
          "output_type": "stream",
          "text": [
            "*\n",
            "**\n",
            "***\n",
            "****\n"
          ]
        }
      ],
      "source": [
        "for i in range(1,5):\n",
        "  for j in range (1,i+1):\n",
        "    print(\"*\",end=\"\")\n",
        "  print()"
      ]
    },
    {
      "cell_type": "code",
      "execution_count": null,
      "metadata": {
        "colab": {
          "base_uri": "https://localhost:8080/"
        },
        "id": "Ac39Kq_0a_x-",
        "outputId": "07250046-ef60-4b29-b8a5-8ac18d0047e3"
      },
      "outputs": [
        {
          "name": "stdout",
          "output_type": "stream",
          "text": [
            "*\n",
            "**\n",
            "***\n",
            "****\n"
          ]
        }
      ],
      "source": [
        "n=4\n",
        "for i in range (1,n+1):\n",
        "    print(\"*\"*i)"
      ]
    },
    {
      "cell_type": "code",
      "execution_count": null,
      "metadata": {
        "colab": {
          "base_uri": "https://localhost:8080/"
        },
        "id": "dQX9NCSKZlg9",
        "outputId": "d64e601f-33b1-4d49-d50e-00241ae9b6da"
      },
      "outputs": [
        {
          "name": "stdout",
          "output_type": "stream",
          "text": [
            "*\n",
            "**\n",
            "***\n",
            "********\n"
          ]
        }
      ],
      "source": [
        "rows = [1, 2, 3, 8]\n",
        "\n",
        "for i in rows:\n",
        "    print(\"*\" * i)"
      ]
    },
    {
      "cell_type": "code",
      "execution_count": null,
      "metadata": {
        "colab": {
          "base_uri": "https://localhost:8080/"
        },
        "id": "lfa9CLNubhpB",
        "outputId": "4de315be-746c-4d21-a42d-48e81cd793cd"
      },
      "outputs": [
        {
          "name": "stdout",
          "output_type": "stream",
          "text": [
            "8\n",
            "*\n",
            "*\n",
            "*\n",
            "*\n",
            "*\n",
            "*\n",
            "*\n",
            "*\n"
          ]
        }
      ],
      "source": [
        "n=int (input ())\n",
        "for i in range (n):\n",
        "   print(\"*\")"
      ]
    },
    {
      "cell_type": "code",
      "execution_count": null,
      "metadata": {
        "colab": {
          "base_uri": "https://localhost:8080/"
        },
        "id": "GSAtYaBsb9dE",
        "outputId": "7597086d-3734-457f-df8c-b8b23974703e"
      },
      "outputs": [
        {
          "name": "stdout",
          "output_type": "stream",
          "text": [
            "9\n",
            "*********"
          ]
        }
      ],
      "source": [
        "n=int (input ())\n",
        "for i in range (n):\n",
        "   print(\"*\", end=\"\")"
      ]
    },
    {
      "cell_type": "code",
      "execution_count": null,
      "metadata": {
        "colab": {
          "base_uri": "https://localhost:8080/"
        },
        "id": "JlcjWFd-cFyG",
        "outputId": "19dbc2f6-9dfb-45c0-8047-5dcb3bb2ed8d"
      },
      "outputs": [
        {
          "name": "stdout",
          "output_type": "stream",
          "text": [
            "*****\n",
            "*****\n",
            "*****\n",
            "*****\n",
            "*****\n"
          ]
        }
      ],
      "source": [
        "for i in range (1,6):\n",
        "  for j in range (1,6):\n",
        "    print(\"*\",end=\"\")\n",
        "  print()"
      ]
    },
    {
      "cell_type": "code",
      "execution_count": null,
      "metadata": {
        "colab": {
          "base_uri": "https://localhost:8080/"
        },
        "id": "ZDASNCiLcxzh",
        "outputId": "89e0be2e-92b2-4bfa-edde-2f1fe8fc9377"
      },
      "outputs": [
        {
          "name": "stdout",
          "output_type": "stream",
          "text": [
            "8\n",
            "7\n",
            "*******\n",
            "*******\n",
            "*******\n",
            "*******\n",
            "*******\n",
            "*******\n",
            "*******\n",
            "*******\n"
          ]
        }
      ],
      "source": [
        "a=int (input ())\n",
        "b= int (input ())\n",
        "for i in range (a):\n",
        "    print(\"*\"*b)"
      ]
    },
    {
      "cell_type": "code",
      "execution_count": null,
      "metadata": {
        "colab": {
          "base_uri": "https://localhost:8080/"
        },
        "id": "Nst0KV2edTcQ",
        "outputId": "9b4a873e-e5ed-4829-9b8c-49828ca2cd8f"
      },
      "outputs": [
        {
          "name": "stdout",
          "output_type": "stream",
          "text": [
            "*********\n",
            "********\n",
            "*******\n",
            "******\n",
            "*****\n",
            "****\n",
            "***\n",
            "**\n",
            "*\n"
          ]
        }
      ],
      "source": [
        "n=9\n",
        "for i in range (n,0,-1):\n",
        "    print(\"*\"*i)"
      ]
    },
    {
      "cell_type": "code",
      "execution_count": null,
      "metadata": {
        "colab": {
          "base_uri": "https://localhost:8080/"
        },
        "id": "Yqm9QoKseeOe",
        "outputId": "4c2452cc-60ca-4521-d8da-62778e744da8"
      },
      "outputs": [
        {
          "name": "stdout",
          "output_type": "stream",
          "text": [
            "\n",
            "\n",
            "*\n",
            "**\n",
            "***\n",
            "****\n",
            "*****\n",
            "******\n"
          ]
        }
      ],
      "source": [
        "for i in range (1,9):\n",
        "  for j in range(1,i-1):\n",
        "    print(\"*\",end=\"\")\n",
        "  print()"
      ]
    },
    {
      "cell_type": "code",
      "execution_count": null,
      "metadata": {
        "id": "h_nu-jJwg43M"
      },
      "outputs": [],
      "source": [
        " n=1\n",
        "while (i < 5):\n",
        "   print(i)\n",
        "   i+=1"
      ]
    },
    {
      "cell_type": "code",
      "execution_count": null,
      "metadata": {
        "colab": {
          "base_uri": "https://localhost:8080/"
        },
        "id": "qebglbyXfSkN",
        "outputId": "478660be-fb86-46e7-e3e4-5d7df4a323d4"
      },
      "outputs": [
        {
          "name": "stdout",
          "output_type": "stream",
          "text": [
            "1\n",
            "1\n",
            "2\n",
            "3\n",
            "4\n"
          ]
        }
      ],
      "source": [
        "\n",
        "\n",
        "a=int (input ())\n",
        "while(a < 5):\n",
        "  print(a)\n",
        "  a+=1"
      ]
    },
    {
      "cell_type": "code",
      "execution_count": null,
      "metadata": {
        "colab": {
          "base_uri": "https://localhost:8080/"
        },
        "id": "qaiNkLdkiKki",
        "outputId": "25953a5d-dc16-457c-f877-fcf527b8e2c9"
      },
      "outputs": [
        {
          "name": "stdout",
          "output_type": "stream",
          "text": [
            "1\n",
            "2\n",
            "3\n",
            "4\n",
            "5\n",
            "6\n",
            "7\n",
            "8\n",
            "9\n",
            "10\n"
          ]
        }
      ],
      "source": [
        "for i in range (1,11):\n",
        "   print(i)"
      ]
    },
    {
      "cell_type": "code",
      "execution_count": null,
      "metadata": {
        "colab": {
          "base_uri": "https://localhost:8080/"
        },
        "id": "401gnRUkiq5C",
        "outputId": "bc60d6a8-421e-4237-d284-b04361465590"
      },
      "outputs": [
        {
          "name": "stdout",
          "output_type": "stream",
          "text": [
            "0\n",
            "1\n",
            "3\n",
            "4\n",
            "5\n",
            "6\n"
          ]
        }
      ],
      "source": [
        "for i in range (7):\n",
        "  if i==2:\n",
        "   continue\n",
        "  print (i)"
      ]
    },
    {
      "cell_type": "code",
      "execution_count": null,
      "metadata": {
        "colab": {
          "base_uri": "https://localhost:8080/"
        },
        "id": "hY-JSqaakhIt",
        "outputId": "e75fef27-687d-4705-de24-c0bc6e6fa1f2"
      },
      "outputs": [
        {
          "name": "stdout",
          "output_type": "stream",
          "text": [
            "0\n",
            "1\n",
            "2\n",
            "3\n",
            "4\n",
            "5\n",
            "6\n",
            "7\n",
            "8\n",
            "9\n"
          ]
        }
      ],
      "source": [
        "for i in range(10):\n",
        "  if (i==10):\n",
        "    break\n",
        "  print(i)"
      ]
    },
    {
      "cell_type": "code",
      "source": [
        "a=int(input ())\n",
        "print(a)\n",
        "print(type(a))"
      ],
      "metadata": {
        "id": "4jrL3kLvqsPh",
        "colab": {
          "base_uri": "https://localhost:8080/"
        },
        "outputId": "ab23eae3-8bfb-44d7-d8d7-8e0aea520ebc"
      },
      "execution_count": null,
      "outputs": [
        {
          "output_type": "stream",
          "name": "stdout",
          "text": [
            "5\n",
            "5\n",
            "<class 'int'>\n"
          ]
        }
      ]
    },
    {
      "cell_type": "code",
      "source": [
        "a=float(input ())\n",
        "print(a)\n",
        "print(type(a))"
      ],
      "metadata": {
        "colab": {
          "base_uri": "https://localhost:8080/"
        },
        "id": "WUVG2MGDzSTk",
        "outputId": "a7c14aa5-bc96-43d5-a829-fdd72c8bdc2d"
      },
      "execution_count": null,
      "outputs": [
        {
          "output_type": "stream",
          "name": "stdout",
          "text": [
            "5\n",
            "5.0\n",
            "<class 'float'>\n"
          ]
        }
      ]
    },
    {
      "cell_type": "code",
      "source": [
        "A=int(input ())\n",
        "print (A)\n",
        "print(type(A))"
      ],
      "metadata": {
        "colab": {
          "base_uri": "https://localhost:8080/"
        },
        "id": "W_UwoJvczyJf",
        "outputId": "91bcc3e8-c640-4813-f6af-4efb9723a069"
      },
      "execution_count": null,
      "outputs": [
        {
          "output_type": "stream",
          "name": "stdout",
          "text": [
            "6\n",
            "6\n",
            "<class 'int'>\n"
          ]
        }
      ]
    },
    {
      "cell_type": "code",
      "source": [
        "A=float (input ())\n",
        "print (A)\n",
        "print(type(A))"
      ],
      "metadata": {
        "colab": {
          "base_uri": "https://localhost:8080/"
        },
        "id": "KE_zRkRE0QNl",
        "outputId": "402989f3-e19e-4fa0-b2ec-192522417e87"
      },
      "execution_count": null,
      "outputs": [
        {
          "output_type": "stream",
          "name": "stdout",
          "text": [
            "8\n",
            "8.0\n",
            "<class 'float'>\n"
          ]
        }
      ]
    },
    {
      "cell_type": "code",
      "source": [
        "a=True\n",
        "print(a)\n",
        "print(type(a))"
      ],
      "metadata": {
        "colab": {
          "base_uri": "https://localhost:8080/"
        },
        "id": "5N7iPbWq0hom",
        "outputId": "a30343bf-dacd-4507-c4c5-4beb890b1be1"
      },
      "execution_count": null,
      "outputs": [
        {
          "output_type": "stream",
          "name": "stdout",
          "text": [
            "True\n",
            "<class 'bool'>\n"
          ]
        }
      ]
    },
    {
      "cell_type": "code",
      "source": [
        "c=5+6j\n",
        "print(c)\n",
        "print(type(c))"
      ],
      "metadata": {
        "colab": {
          "base_uri": "https://localhost:8080/"
        },
        "id": "wvVTZTbv1EgG",
        "outputId": "5db824af-b1c5-43c5-be0d-5243746cf7ed"
      },
      "execution_count": null,
      "outputs": [
        {
          "output_type": "stream",
          "name": "stdout",
          "text": [
            "(5+6j)\n",
            "<class 'complex'>\n"
          ]
        }
      ]
    },
    {
      "cell_type": "code",
      "source": [
        "H=\"my name is Shanthi priya \"\n",
        "print(H)\n",
        "print(type(H))"
      ],
      "metadata": {
        "colab": {
          "base_uri": "https://localhost:8080/"
        },
        "id": "TaLCr1j91nK-",
        "outputId": "9bcd225a-266a-48df-f517-b268492531a2"
      },
      "execution_count": null,
      "outputs": [
        {
          "output_type": "stream",
          "name": "stdout",
          "text": [
            "my name is Shanthi priya \n",
            "<class 'str'>\n"
          ]
        }
      ]
    },
    {
      "cell_type": "code",
      "source": [
        "f=\"All the 'apples' are good \"\n",
        "print(f)\n",
        "print(type(f))"
      ],
      "metadata": {
        "colab": {
          "base_uri": "https://localhost:8080/"
        },
        "id": "GPLBfkYs18_n",
        "outputId": "0870739b-45f9-40b4-ec6b-9e8a67b7dccf"
      },
      "execution_count": null,
      "outputs": [
        {
          "output_type": "stream",
          "name": "stdout",
          "text": [
            "All the 'apples' are good \n",
            "<class 'str'>\n"
          ]
        }
      ]
    },
    {
      "cell_type": "code",
      "source": [
        "a,b= map(int, input().split())"
      ],
      "metadata": {
        "colab": {
          "base_uri": "https://localhost:8080/"
        },
        "id": "1med6RYdAwt3",
        "outputId": "029602f4-2268-46ff-edb0-5dff8e596733"
      },
      "execution_count": null,
      "outputs": [
        {
          "name": "stdout",
          "output_type": "stream",
          "text": [
            "3 2\n"
          ]
        }
      ]
    },
    {
      "cell_type": "code",
      "source": [
        "a=[2,4,8,\"Shanthi\"]\n",
        "print(a)\n",
        "print(type(a))"
      ],
      "metadata": {
        "colab": {
          "base_uri": "https://localhost:8080/"
        },
        "id": "_xJECR8PBJ3g",
        "outputId": "15dfd89c-6a14-469c-cd01-c0d711d9ebae"
      },
      "execution_count": null,
      "outputs": [
        {
          "output_type": "stream",
          "name": "stdout",
          "text": [
            "[2, 4, 8, 'Shanthi']\n",
            "<class 'list'>\n"
          ]
        }
      ]
    },
    {
      "cell_type": "code",
      "source": [
        "b=(9,5,7,\"priya\")\n",
        "print(a)\n",
        "print(type(b))"
      ],
      "metadata": {
        "colab": {
          "base_uri": "https://localhost:8080/"
        },
        "id": "lkMqczZZBeim",
        "outputId": "5e162738-e919-4cac-b653-2db6d1b54895"
      },
      "execution_count": null,
      "outputs": [
        {
          "output_type": "stream",
          "name": "stdout",
          "text": [
            "[2, 4, 8, 'Shanthi']\n",
            "<class 'tuple'>\n"
          ]
        }
      ]
    },
    {
      "cell_type": "code",
      "source": [
        "h={\"string\":4,\"hi\":9}\n",
        "print(h)\n",
        "print(type(h))"
      ],
      "metadata": {
        "colab": {
          "base_uri": "https://localhost:8080/"
        },
        "id": "Hk7SrJRIB7U7",
        "outputId": "18a102c9-cfb3-486a-ba17-d2e77e3d9275"
      },
      "execution_count": null,
      "outputs": [
        {
          "output_type": "stream",
          "name": "stdout",
          "text": [
            "{'string': 4, 'hi': 9}\n",
            "<class 'dict'>\n"
          ]
        }
      ]
    },
    {
      "cell_type": "code",
      "source": [
        "h={\"string\":4,\"hi\":9}\n",
        "print(h.keys())\n",
        "print(h)\n",
        "print(type(h))"
      ],
      "metadata": {
        "colab": {
          "base_uri": "https://localhost:8080/"
        },
        "id": "scUq_XZCCbOM",
        "outputId": "2c9d950e-5a43-41a9-d4ab-97a54fc81e88"
      },
      "execution_count": null,
      "outputs": [
        {
          "output_type": "stream",
          "name": "stdout",
          "text": [
            "dict_keys(['string', 'hi'])\n",
            "{'string': 4, 'hi': 9}\n",
            "<class 'dict'>\n"
          ]
        }
      ]
    },
    {
      "cell_type": "code",
      "source": [
        "h={\"string\":4,\"hi\":9}\n",
        "print(h.values())\n",
        "print(h)\n",
        "print(type(h))"
      ],
      "metadata": {
        "colab": {
          "base_uri": "https://localhost:8080/"
        },
        "id": "VGbCxF5HCj70",
        "outputId": "16d2e575-ed88-4ad4-9fce-2f04bd9e9254"
      },
      "execution_count": null,
      "outputs": [
        {
          "output_type": "stream",
          "name": "stdout",
          "text": [
            "dict_values([4, 9])\n",
            "{'string': 4, 'hi': 9}\n",
            "<class 'dict'>\n"
          ]
        }
      ]
    },
    {
      "cell_type": "code",
      "source": [
        "h={\"string\":4,\"hi\":9}\n",
        "print(h.items())\n",
        "print(h)\n",
        "print(type(h))"
      ],
      "metadata": {
        "colab": {
          "base_uri": "https://localhost:8080/"
        },
        "id": "UOrf6egoCs-i",
        "outputId": "63427090-bfa3-4c15-faff-7f0551527037"
      },
      "execution_count": null,
      "outputs": [
        {
          "output_type": "stream",
          "name": "stdout",
          "text": [
            "dict_items([('string', 4), ('hi', 9)])\n",
            "{'string': 4, 'hi': 9}\n",
            "<class 'dict'>\n"
          ]
        }
      ]
    },
    {
      "cell_type": "code",
      "source": [
        "h={\"string\":4,\"hi\":9}\n",
        "print(h.pop(\"string\"))\n",
        "print(h)\n",
        "print(type(h))"
      ],
      "metadata": {
        "colab": {
          "base_uri": "https://localhost:8080/"
        },
        "id": "nF-GAlj9DQwV",
        "outputId": "fbe808ee-5cb8-4b47-9beb-b5cade7b99bd"
      },
      "execution_count": null,
      "outputs": [
        {
          "output_type": "stream",
          "name": "stdout",
          "text": [
            "4\n",
            "{'hi': 9}\n",
            "<class 'dict'>\n"
          ]
        }
      ]
    },
    {
      "cell_type": "code",
      "source": [
        "h={\"string\":4,\"hi\":9}\n",
        "print(h.update({\"course\":\"python\"}))\n",
        "print(h)\n",
        "print(type(h))"
      ],
      "metadata": {
        "colab": {
          "base_uri": "https://localhost:8080/"
        },
        "id": "mOwFC8JEEFtK",
        "outputId": "8e36b641-170d-42d7-b1b5-c5a1aed4dc73"
      },
      "execution_count": null,
      "outputs": [
        {
          "output_type": "stream",
          "name": "stdout",
          "text": [
            "None\n",
            "{'string': 4, 'hi': 9, 'course': 'python'}\n",
            "<class 'dict'>\n"
          ]
        }
      ]
    },
    {
      "cell_type": "code",
      "source": [
        "x=(1,2,3,4,5,6,7,8,9)\n",
        "print(min(x))\n",
        "print(max(x))\n",
        "print(type(x))"
      ],
      "metadata": {
        "colab": {
          "base_uri": "https://localhost:8080/"
        },
        "id": "2gYCU8v4FiNu",
        "outputId": "335299b3-e205-40f8-e46f-a5c7c7a3f028"
      },
      "execution_count": null,
      "outputs": [
        {
          "output_type": "stream",
          "name": "stdout",
          "text": [
            "1\n",
            "9\n",
            "<class 'tuple'>\n"
          ]
        }
      ]
    },
    {
      "cell_type": "code",
      "source": [
        "x=(1,2,3,4,5,6,7,8,9,\"banana\")\n",
        "print(min(x))\n",
        "print(max(x))\n",
        "print(type(x))"
      ],
      "metadata": {
        "colab": {
          "base_uri": "https://localhost:8080/",
          "height": 263
        },
        "id": "7tzGQE7QF3K0",
        "outputId": "3d726580-1f05-4a2a-d5b9-ff62556112e6"
      },
      "execution_count": null,
      "outputs": [
        {
          "output_type": "error",
          "ename": "TypeError",
          "evalue": "'<' not supported between instances of 'str' and 'int'",
          "traceback": [
            "\u001b[0;31m---------------------------------------------------------------------------\u001b[0m",
            "\u001b[0;31mTypeError\u001b[0m                                 Traceback (most recent call last)",
            "\u001b[0;32m/tmp/ipython-input-43-2720672692.py\u001b[0m in \u001b[0;36m<cell line: 0>\u001b[0;34m()\u001b[0m\n\u001b[1;32m      1\u001b[0m \u001b[0mx\u001b[0m\u001b[0;34m=\u001b[0m\u001b[0;34m(\u001b[0m\u001b[0;36m1\u001b[0m\u001b[0;34m,\u001b[0m\u001b[0;36m2\u001b[0m\u001b[0;34m,\u001b[0m\u001b[0;36m3\u001b[0m\u001b[0;34m,\u001b[0m\u001b[0;36m4\u001b[0m\u001b[0;34m,\u001b[0m\u001b[0;36m5\u001b[0m\u001b[0;34m,\u001b[0m\u001b[0;36m6\u001b[0m\u001b[0;34m,\u001b[0m\u001b[0;36m7\u001b[0m\u001b[0;34m,\u001b[0m\u001b[0;36m8\u001b[0m\u001b[0;34m,\u001b[0m\u001b[0;36m9\u001b[0m\u001b[0;34m,\u001b[0m\u001b[0;34m\"banana\"\u001b[0m\u001b[0;34m)\u001b[0m\u001b[0;34m\u001b[0m\u001b[0;34m\u001b[0m\u001b[0m\n\u001b[0;32m----> 2\u001b[0;31m \u001b[0mprint\u001b[0m\u001b[0;34m(\u001b[0m\u001b[0mmin\u001b[0m\u001b[0;34m(\u001b[0m\u001b[0mx\u001b[0m\u001b[0;34m)\u001b[0m\u001b[0;34m)\u001b[0m\u001b[0;34m\u001b[0m\u001b[0;34m\u001b[0m\u001b[0m\n\u001b[0m\u001b[1;32m      3\u001b[0m \u001b[0mprint\u001b[0m\u001b[0;34m(\u001b[0m\u001b[0mmax\u001b[0m\u001b[0;34m(\u001b[0m\u001b[0mx\u001b[0m\u001b[0;34m)\u001b[0m\u001b[0;34m)\u001b[0m\u001b[0;34m\u001b[0m\u001b[0;34m\u001b[0m\u001b[0m\n\u001b[1;32m      4\u001b[0m \u001b[0mprint\u001b[0m\u001b[0;34m(\u001b[0m\u001b[0mtype\u001b[0m\u001b[0;34m(\u001b[0m\u001b[0mx\u001b[0m\u001b[0;34m)\u001b[0m\u001b[0;34m)\u001b[0m\u001b[0;34m\u001b[0m\u001b[0;34m\u001b[0m\u001b[0m\n",
            "\u001b[0;31mTypeError\u001b[0m: '<' not supported between instances of 'str' and 'int'"
          ]
        }
      ]
    },
    {
      "cell_type": "code",
      "source": [
        "x=(1,2,3,4,5,6,7,8,9)\n",
        "print(x.count(9))\n",
        "print(type(x))"
      ],
      "metadata": {
        "colab": {
          "base_uri": "https://localhost:8080/"
        },
        "id": "7ihFho5BGYhO",
        "outputId": "8173ebe1-24c9-4d61-a492-c89a5d1ef0cc"
      },
      "execution_count": null,
      "outputs": [
        {
          "output_type": "stream",
          "name": "stdout",
          "text": [
            "1\n",
            "<class 'tuple'>\n"
          ]
        }
      ]
    },
    {
      "cell_type": "code",
      "source": [
        "x=(1,2,3,4,5,6,7,8,9)\n",
        "print(x.index(9))\n",
        "print(type(x))"
      ],
      "metadata": {
        "colab": {
          "base_uri": "https://localhost:8080/"
        },
        "id": "Qi9wbrLRHIvu",
        "outputId": "692a4b35-0d87-4273-ad5a-73e815909e66"
      },
      "execution_count": null,
      "outputs": [
        {
          "output_type": "stream",
          "name": "stdout",
          "text": [
            "8\n",
            "<class 'tuple'>\n"
          ]
        }
      ]
    }
  ],
  "metadata": {
    "colab": {
      "provenance": [],
      "authorship_tag": "ABX9TyNJvr7KgAcWEBa4kVlyE2LV",
      "include_colab_link": true
    },
    "kernelspec": {
      "display_name": "Python 3",
      "name": "python3"
    },
    "language_info": {
      "name": "python"
    }
  },
  "nbformat": 4,
  "nbformat_minor": 0
}